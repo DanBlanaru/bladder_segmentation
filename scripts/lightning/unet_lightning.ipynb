{
 "cells": [
  {
   "cell_type": "code",
   "execution_count": null,
   "id": "0f322a88",
   "metadata": {},
   "outputs": [],
   "source": [
    "import os\n",
    "from argparse import ArgumentParser\n",
    "\n",
    "import numpy as np\n",
    "import torch\n",
    "\n",
    "from Unet import Unet\n",
    "from pytorch_lightning import Trainer\n",
    "from pytorch_lightning.callbacks import ModelCheckpoint, EarlyStopping\n",
    "\n",
    "\n",
    "def main(hparams):\n",
    "    model = Unet(hparams)\n",
    "\n",
    "    os.makedirs(hparams.log_dir, exist_ok=True)\n",
    "    try:\n",
    "        log_dir = sorted(os.listdir(hparams.log_dir))[-1]\n",
    "    except IndexError:\n",
    "        log_dir = os.path.join(hparams.log_dir, 'version_0')\n",
    "    checkpoint_callback = ModelCheckpoint(\n",
    "        filepath=os.path.join(log_dir, 'checkpoints'),\n",
    "        save_best_only=False,\n",
    "        verbose=True,\n",
    "    )\n",
    "    stop_callback = EarlyStopping(\n",
    "        monitor='val_loss',\n",
    "        mode='auto',\n",
    "        patience=5,\n",
    "        verbose=True,\n",
    "    )\n",
    "    trainer = Trainer(\n",
    "        gpus=1,\n",
    "        checkpoint_callback=checkpoint_callback,\n",
    "        early_stop_callback=stop_callback,\n",
    "    )\n",
    "\n",
    "    trainer.fit(model)\n",
    "\n",
    "\n",
    "if __name__ == '__main__':\n",
    "    parent_parser = ArgumentParser(add_help=False)\n",
    "    parent_parser.add_argument('--dataset', required=True)\n",
    "    parent_parser.add_argument('--log_dir', default='lightning_logs')\n",
    "\n",
    "    parser = Unet.add_model_specific_args(parent_parser)\n",
    "    hparams = parser.parse_args()\n",
    "\n",
    "    main(hparams)"
   ]
  }
 ],
 "metadata": {
  "kernelspec": {
   "display_name": "Python 3 (ipykernel)",
   "language": "python",
   "name": "python3"
  },
  "language_info": {
   "codemirror_mode": {
    "name": "ipython",
    "version": 3
   },
   "file_extension": ".py",
   "mimetype": "text/x-python",
   "name": "python",
   "nbconvert_exporter": "python",
   "pygments_lexer": "ipython3",
   "version": "3.9.7"
  }
 },
 "nbformat": 4,
 "nbformat_minor": 5
}
