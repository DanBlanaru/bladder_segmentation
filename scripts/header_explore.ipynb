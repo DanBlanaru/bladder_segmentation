{
 "cells": [
  {
   "cell_type": "code",
   "execution_count": 1,
   "id": "987b7fb5",
   "metadata": {},
   "outputs": [],
   "source": [
    "import nibabel as nib\n",
    "import numpy as np\n",
    "import os\n",
    "np.set_printoptions(precision=4, suppress=True)"
   ]
  },
  {
   "cell_type": "code",
   "execution_count": 2,
   "id": "5e451a0c",
   "metadata": {},
   "outputs": [],
   "source": [
    "img = nib.load('../sample_img/labels-028.nii.gz')"
   ]
  },
  {
   "cell_type": "code",
   "execution_count": 3,
   "id": "f0a45e80",
   "metadata": {},
   "outputs": [
    {
     "data": {
      "text/plain": [
       "<nibabel.nifti1.Nifti1Image at 0x16d5b0d1430>"
      ]
     },
     "execution_count": 3,
     "metadata": {},
     "output_type": "execute_result"
    }
   ],
   "source": [
    "img"
   ]
  },
  {
   "cell_type": "code",
   "execution_count": 4,
   "id": "da94a043",
   "metadata": {},
   "outputs": [
    {
     "data": {
      "text/plain": [
       "array([[1., 0., 0., 0.],\n",
       "       [0., 1., 0., 0.],\n",
       "       [0., 0., 1., 0.],\n",
       "       [0., 0., 0., 1.]])"
      ]
     },
     "execution_count": 4,
     "metadata": {},
     "output_type": "execute_result"
    }
   ],
   "source": [
    "img.affine"
   ]
  },
  {
   "cell_type": "code",
   "execution_count": 5,
   "id": "f3852036",
   "metadata": {},
   "outputs": [
    {
     "name": "stdout",
     "output_type": "stream",
     "text": [
      "<class 'nibabel.nifti1.Nifti1Header'> object, endian='<'\n",
      "sizeof_hdr      : 348\n",
      "data_type       : b''\n",
      "db_name         : b''\n",
      "extents         : 0\n",
      "session_error   : 0\n",
      "regular         : b''\n",
      "dim_info        : 0\n",
      "dim             : [  3 512 512 129   1   1   1   1]\n",
      "intent_p1       : 0.0\n",
      "intent_p2       : 0.0\n",
      "intent_p3       : 0.0\n",
      "intent_code     : none\n",
      "datatype        : int16\n",
      "bitpix          : 16\n",
      "slice_start     : 0\n",
      "pixdim          : [1. 1. 1. 1. 1. 1. 1. 1.]\n",
      "vox_offset      : 0.0\n",
      "scl_slope       : nan\n",
      "scl_inter       : nan\n",
      "slice_end       : 0\n",
      "slice_code      : unknown\n",
      "xyzt_units      : 0\n",
      "cal_max         : 0.0\n",
      "cal_min         : 0.0\n",
      "slice_duration  : 0.0\n",
      "toffset         : 0.0\n",
      "glmax           : 0\n",
      "glmin           : 0\n",
      "descrip         : b'None'\n",
      "aux_file        : b'None'\n",
      "qform_code      : unknown\n",
      "sform_code      : aligned\n",
      "quatern_b       : 0.0\n",
      "quatern_c       : 0.0\n",
      "quatern_d       : 0.0\n",
      "qoffset_x       : 0.0\n",
      "qoffset_y       : 0.0\n",
      "qoffset_z       : 0.0\n",
      "srow_x          : [1. 0. 0. 0.]\n",
      "srow_y          : [0. 1. 0. 0.]\n",
      "srow_z          : [0. 0. 1. 0.]\n",
      "intent_name     : b''\n",
      "magic           : b'n+1'\n"
     ]
    }
   ],
   "source": [
    "print(img.header)"
   ]
  },
  {
   "cell_type": "code",
   "execution_count": 6,
   "id": "6539e771",
   "metadata": {},
   "outputs": [
    {
     "data": {
      "text/plain": [
       "True"
      ]
     },
     "execution_count": 6,
     "metadata": {},
     "output_type": "execute_result"
    }
   ],
   "source": [
    "nib.is_proxy(img.dataobj)"
   ]
  },
  {
   "cell_type": "code",
   "execution_count": 7,
   "id": "36862454",
   "metadata": {},
   "outputs": [],
   "source": [
    "img_data = img.get_fdata()"
   ]
  },
  {
   "cell_type": "code",
   "execution_count": 8,
   "id": "0dafb8b0",
   "metadata": {},
   "outputs": [],
   "source": [
    "unique,counts = np.unique(img_data,return_counts=True)"
   ]
  },
  {
   "cell_type": "code",
   "execution_count": 9,
   "id": "7e562d1d",
   "metadata": {},
   "outputs": [
    {
     "data": {
      "text/plain": [
       "(array([0., 1., 3., 4., 5.]),\n",
       " array([27758042,  2865131,  1814305,   421663,   957435], dtype=int64))"
      ]
     },
     "execution_count": 9,
     "metadata": {},
     "output_type": "execute_result"
    }
   ],
   "source": [
    "unique,counts"
   ]
  },
  {
   "cell_type": "code",
   "execution_count": 10,
   "id": "8f74b76d",
   "metadata": {},
   "outputs": [
    {
     "data": {
      "text/plain": [
       "0"
      ]
     },
     "execution_count": 10,
     "metadata": {},
     "output_type": "execute_result"
    }
   ],
   "source": [
    "np.isclose(img_data,2.0).sum()"
   ]
  },
  {
   "cell_type": "code",
   "execution_count": 11,
   "id": "4ccea116",
   "metadata": {},
   "outputs": [],
   "source": [
    "new_data = np.isclose(img_data,2.0)"
   ]
  },
  {
   "cell_type": "code",
   "execution_count": 12,
   "id": "90c4d57a",
   "metadata": {},
   "outputs": [],
   "source": [
    "new_img = nib.Nifti1Image(new_data,img.affine,img.header)"
   ]
  },
  {
   "cell_type": "code",
   "execution_count": 13,
   "id": "c768eedb",
   "metadata": {},
   "outputs": [],
   "source": [
    "nib.save(new_img,'img_smth.nii.gz')"
   ]
  },
  {
   "cell_type": "code",
   "execution_count": 14,
   "id": "d73e08cf",
   "metadata": {},
   "outputs": [],
   "source": [
    "img_dup = nib.load('../sample_img/labels-021.nii.gz')\n",
    "img_dup2 = nib.load('img_smth.nii.gz')"
   ]
  },
  {
   "cell_type": "code",
   "execution_count": 15,
   "id": "985cddaf",
   "metadata": {},
   "outputs": [
    {
     "data": {
      "text/plain": [
       "dtype('float64')"
      ]
     },
     "execution_count": 15,
     "metadata": {},
     "output_type": "execute_result"
    }
   ],
   "source": [
    "img_dup2.get_fdata().dtype"
   ]
  },
  {
   "cell_type": "code",
   "execution_count": 16,
   "id": "caad1978",
   "metadata": {},
   "outputs": [
    {
     "data": {
      "text/plain": [
       "False"
      ]
     },
     "execution_count": 16,
     "metadata": {},
     "output_type": "execute_result"
    }
   ],
   "source": [
    "np.allclose(img_dup.get_fdata(),img_dup2.get_fdata())"
   ]
  },
  {
   "cell_type": "code",
   "execution_count": null,
   "id": "b442296e",
   "metadata": {},
   "outputs": [],
   "source": []
  }
 ],
 "metadata": {
  "kernelspec": {
   "display_name": "Python 3 (ipykernel)",
   "language": "python",
   "name": "python3"
  },
  "language_info": {
   "codemirror_mode": {
    "name": "ipython",
    "version": 3
   },
   "file_extension": ".py",
   "mimetype": "text/x-python",
   "name": "python",
   "nbconvert_exporter": "python",
   "pygments_lexer": "ipython3",
   "version": "3.9.7"
  }
 },
 "nbformat": 4,
 "nbformat_minor": 5
}
