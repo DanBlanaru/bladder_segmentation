{
 "cells": [
  {
   "cell_type": "code",
   "execution_count": 1,
   "id": "987b7fb5",
   "metadata": {},
   "outputs": [],
   "source": [
    "import SimpleITK as sitk\n",
    "\n",
    "import numpy as np\n",
    "import os\n",
    "from ipywidgets import interact, fixed\n",
    "\n",
    "import matplotlib.pyplot as plt\n",
    "%matplotlib inline\n",
    "np.set_printoptions(precision=4, suppress=True)"
   ]
  },
  {
   "cell_type": "code",
   "execution_count": 2,
   "id": "ac10b58d",
   "metadata": {},
   "outputs": [],
   "source": [
    "data_dir = \"E:\\\\Guided Research\\AMOS_examples\"\n",
    "# data_dir = \"E:\\\\Guided Research\\AMOS22\"\n",
    "raw_dir = data_dir + \"\\imagesTr\\\\\"\n",
    "labels_dir = data_dir + \"\\labelsTr\\\\\"\n",
    "\n",
    "target_dir = \"E:\\\\Guided Research\\AMOS_preprocessed\"\n",
    "target_raw_dir = target_dir + \"\\imagesTr\\\\\"\n",
    "target_labels_dir = target_dir + \"\\labelsTr\\\\\"\n",
    "# list(os.listdir(raw_dir))"
   ]
  },
  {
   "cell_type": "code",
   "execution_count": 3,
   "id": "dc59ba21",
   "metadata": {},
   "outputs": [
    {
     "data": {
      "text/plain": [
       "['amos_0001.nii.gz',\n",
       " 'amos_0004.nii.gz',\n",
       " 'amos_0005.nii.gz',\n",
       " 'amos_0006.nii.gz',\n",
       " 'amos_0007.nii.gz',\n",
       " 'amos_0009.nii.gz',\n",
       " 'amos_0010.nii.gz',\n",
       " 'amos_0011.nii.gz']"
      ]
     },
     "execution_count": 3,
     "metadata": {},
     "output_type": "execute_result"
    }
   ],
   "source": [
    "list(os.listdir(raw_dir))"
   ]
  },
  {
   "cell_type": "code",
   "execution_count": 4,
   "id": "5e451a0c",
   "metadata": {},
   "outputs": [],
   "source": [
    "img_list = list(os.listdir(raw_dir))\n",
    "label_list = list(os.listdir(labels_dir))"
   ]
  },
  {
   "cell_type": "code",
   "execution_count": 5,
   "id": "593e8624",
   "metadata": {},
   "outputs": [
    {
     "name": "stdout",
     "output_type": "stream",
     "text": [
      "8\n",
      "8\n"
     ]
    }
   ],
   "source": [
    "print(len(img_list))\n",
    "print(len(label_list))\n",
    "# img_list.__len__() == label_list.__len__()\n"
   ]
  },
  {
   "cell_type": "code",
   "execution_count": 6,
   "id": "f0a45e80",
   "metadata": {},
   "outputs": [],
   "source": [
    "img1 = sitk.ReadImage(raw_dir+img_list[0])\n",
    "label1 = sitk.ReadImage(labels_dir+label_list[0])"
   ]
  },
  {
   "cell_type": "code",
   "execution_count": 7,
   "id": "da94a043",
   "metadata": {},
   "outputs": [
    {
     "name": "stdout",
     "output_type": "stream",
     "text": [
      "(90, 768, 768)\n",
      "(90, 768, 768)\n"
     ]
    }
   ],
   "source": [
    "print(sitk.GetArrayFromImage(img1).shape)\n",
    "print(sitk.GetArrayFromImage(label1).shape)"
   ]
  },
  {
   "cell_type": "code",
   "execution_count": 8,
   "id": "e2007d30",
   "metadata": {},
   "outputs": [],
   "source": [
    "# from scipy.signal import resample_poly\n",
    "# from scipy.ndimage import zoom\n",
    "# from torch.nn.functional import interpolate\n",
    "# import torch\n",
    "# def resampling_method(img):\n",
    "#     voxel_sizes = img.GetSpacing()\n",
    "#     target_spacing  = (2,2,5)\n",
    "#     inverse_ratios = (target_spacing[0]/voxel_sizes[0],target_spacing[1]/voxel_sizes[1],target_spacing[2]/voxel_sizes[2])\n",
    "#     print(inverse_ratios)\n",
    "    \n",
    "#     img_array = sitk.GetArrayFromImage(img)\n",
    "#     img_array = np.expand_dims(img_array,axis=(0,1))\n",
    "#     # print(img_array.shape)\n",
    "#     img_array = torch.tensor(img_array)\n",
    "#     print(img_array.shape)\n",
    "#     resized_img_array = interpolate(img_array,scale_factor=inverse_ratios).squeeze()\n",
    "#     resized_img = sitk.GetImageFromArray(resized_img_array).CopyInformation(img)\n",
    "#     resized_img.SetSpacing((2,2,5))\n",
    "#     print(inverse_ratios)\n",
    "#     print(resized_img.GetSpacing())\n",
    "#     return resized_img"
   ]
  },
  {
   "cell_type": "code",
   "execution_count": 15,
   "id": "91140a50",
   "metadata": {},
   "outputs": [],
   "source": [
    "def resampling_method(volume, new_spacing, interpolator=sitk.sitkLinear, default_value=0):\n",
    "    \"\"\"\n",
    "    It resamples the original volume to have the voxel size equal to the desired one.\n",
    "    Parameters\n",
    "    ----------\n",
    "    volume: sitk image \n",
    "        The original volume\n",
    "    new_spacing: numpy.array of float (i.e. [1.15, 1.30, 0.75])\n",
    "        The desired voxel size\n",
    "    Returns\n",
    "    ----------\n",
    "    sitk image\n",
    "        The input volume resampled with the desired voxel size\n",
    "    \"\"\"\n",
    "    original_size = volume.GetSize()\n",
    "    original_spacing = volume.GetSpacing()\n",
    "    new_size = [int((original_size[0] - 1) * original_spacing[0] / new_spacing[0]), \n",
    "                    int((original_size[1] - 1) * original_spacing[1] / new_spacing[1]), \n",
    "                            int((original_size[2] - 1) * original_spacing[2] / new_spacing[2])]\n",
    "    # print(new_size)\n",
    "    new_volume = sitk.Resample(volume, new_size, sitk.Transform(), interpolator, volume.GetOrigin(),\n",
    "                                new_spacing, volume.GetDirection(), default_value, volume.GetPixelID())\n",
    "    return new_volume"
   ]
  },
  {
   "cell_type": "code",
   "execution_count": 16,
   "id": "417dc498",
   "metadata": {},
   "outputs": [],
   "source": [
    "resampled_img1 = resampling_method(img1,(2,2,5))"
   ]
  },
  {
   "cell_type": "code",
   "execution_count": 17,
   "id": "f3852036",
   "metadata": {},
   "outputs": [],
   "source": [
    "def print_header(img):\n",
    "    selected_image = img\n",
    "    print('Before modification:')\n",
    "    print('origin: ' + str(selected_image.GetOrigin()))\n",
    "    print('size: ' + str(selected_image.GetSize()))\n",
    "    print('spacing: ' + str(selected_image.GetSpacing()))\n",
    "    print('direction: ' + str(selected_image.GetDirection()))\n",
    "    print('pixel type: ' + str(selected_image.GetPixelIDTypeAsString()))\n",
    "    print('number of pixel components: ' + str(selected_image.GetNumberOfComponentsPerPixel()))\n",
    "\n",
    "    # selected_image.SetOrigin((78.0, 76.0, 77.0))\n",
    "    # selected_image.SetSpacing([0.5,0.5,3.0])\n",
    "\n",
    "    # print('\\nAfter modification:')\n",
    "    # print('origin: ' + str(selected_image.GetOrigin()))\n",
    "    # print('spacing: ' + str(selected_image.GetSpacing()))"
   ]
  },
  {
   "cell_type": "code",
   "execution_count": 18,
   "id": "6278984d",
   "metadata": {},
   "outputs": [
    {
     "name": "stdout",
     "output_type": "stream",
     "text": [
      "Before modification:\n",
      "origin: (-233.0, 373.4296875, 26.5)\n",
      "size: (768, 768, 90)\n",
      "spacing: (1.0, 1.0, 5.0)\n",
      "direction: (1.0, 0.0, 0.0, 0.0, -1.0, 0.0, 0.0, 0.0, 1.0)\n",
      "pixel type: 32-bit float\n",
      "number of pixel components: 1\n"
     ]
    }
   ],
   "source": [
    "print_header(img1)"
   ]
  },
  {
   "cell_type": "code",
   "execution_count": 19,
   "id": "1db86375",
   "metadata": {},
   "outputs": [
    {
     "name": "stdout",
     "output_type": "stream",
     "text": [
      "Before modification:\n",
      "origin: (-233.0, 373.4296875, 26.5)\n",
      "size: (383, 383, 89)\n",
      "spacing: (2.0, 2.0, 5.0)\n",
      "direction: (1.0, 0.0, 0.0, 0.0, -1.0, 0.0, 0.0, 0.0, 1.0)\n",
      "pixel type: 32-bit float\n",
      "number of pixel components: 1\n"
     ]
    }
   ],
   "source": [
    "print_header(resampled_img1)"
   ]
  },
  {
   "cell_type": "code",
   "execution_count": 20,
   "id": "df45f2b4",
   "metadata": {},
   "outputs": [
    {
     "name": "stdout",
     "output_type": "stream",
     "text": [
      "Before modification:\n",
      "origin: (-233.0, 373.4296875, 26.5)\n",
      "size: (768, 768, 90)\n",
      "spacing: (0.5703125, 0.5703125, 5.0)\n",
      "direction: (1.0, 0.0, 0.0, 0.0, -1.0, 0.0, 0.0, 0.0, 1.0)\n",
      "pixel type: 16-bit unsigned integer\n",
      "number of pixel components: 1\n"
     ]
    }
   ],
   "source": [
    "print_header(label1)"
   ]
  },
  {
   "cell_type": "code",
   "execution_count": 22,
   "id": "74b2c2a2",
   "metadata": {},
   "outputs": [
    {
     "name": "stdout",
     "output_type": "stream",
     "text": [
      "Before modification:\n",
      "origin: (-233.0, 373.4296875, 26.5)\n",
      "size: (218, 218, 89)\n",
      "spacing: (2.0, 2.0, 5.0)\n",
      "direction: (1.0, 0.0, 0.0, 0.0, -1.0, 0.0, 0.0, 0.0, 1.0)\n",
      "pixel type: 16-bit unsigned integer\n",
      "number of pixel components: 1\n"
     ]
    }
   ],
   "source": [
    "resampled_label = resampling_method(label1,(2,2,5))\n",
    "print_header(resampled_label)"
   ]
  },
  {
   "cell_type": "code",
   "execution_count": null,
   "id": "e281fd5b",
   "metadata": {},
   "outputs": [],
   "source": []
  },
  {
   "cell_type": "code",
   "execution_count": 6,
   "id": "6539e771",
   "metadata": {},
   "outputs": [
    {
     "data": {
      "text/plain": [
       "True"
      ]
     },
     "execution_count": 6,
     "metadata": {},
     "output_type": "execute_result"
    }
   ],
   "source": [
    "nib.is_proxy(img.dataobj)"
   ]
  },
  {
   "cell_type": "code",
   "execution_count": 7,
   "id": "36862454",
   "metadata": {},
   "outputs": [],
   "source": [
    "img_data = img.get_fdata()"
   ]
  },
  {
   "cell_type": "code",
   "execution_count": 8,
   "id": "0dafb8b0",
   "metadata": {},
   "outputs": [],
   "source": [
    "unique,counts = np.unique(img_data,return_counts=True)"
   ]
  },
  {
   "cell_type": "code",
   "execution_count": 9,
   "id": "7e562d1d",
   "metadata": {},
   "outputs": [
    {
     "data": {
      "text/plain": [
       "(array([0., 1., 3., 4., 5.]),\n",
       " array([27758042,  2865131,  1814305,   421663,   957435], dtype=int64))"
      ]
     },
     "execution_count": 9,
     "metadata": {},
     "output_type": "execute_result"
    }
   ],
   "source": [
    "unique,counts"
   ]
  },
  {
   "cell_type": "code",
   "execution_count": 10,
   "id": "8f74b76d",
   "metadata": {},
   "outputs": [
    {
     "data": {
      "text/plain": [
       "0"
      ]
     },
     "execution_count": 10,
     "metadata": {},
     "output_type": "execute_result"
    }
   ],
   "source": [
    "np.isclose(img_data,2.0).sum()"
   ]
  },
  {
   "cell_type": "code",
   "execution_count": 11,
   "id": "4ccea116",
   "metadata": {},
   "outputs": [],
   "source": [
    "new_data = np.isclose(img_data,2.0)"
   ]
  },
  {
   "cell_type": "code",
   "execution_count": 12,
   "id": "90c4d57a",
   "metadata": {},
   "outputs": [],
   "source": [
    "new_img = nib.Nifti1Image(new_data,img.affine,img.header)"
   ]
  },
  {
   "cell_type": "code",
   "execution_count": 13,
   "id": "c768eedb",
   "metadata": {},
   "outputs": [],
   "source": [
    "nib.save(new_img,'img_smth.nii.gz')"
   ]
  },
  {
   "cell_type": "code",
   "execution_count": 14,
   "id": "d73e08cf",
   "metadata": {},
   "outputs": [],
   "source": [
    "img_dup = nib.load('../sample_img/labels-021.nii.gz')\n",
    "img_dup2 = nib.load('img_smth.nii.gz')"
   ]
  },
  {
   "cell_type": "code",
   "execution_count": 15,
   "id": "985cddaf",
   "metadata": {},
   "outputs": [
    {
     "data": {
      "text/plain": [
       "dtype('float64')"
      ]
     },
     "execution_count": 15,
     "metadata": {},
     "output_type": "execute_result"
    }
   ],
   "source": [
    "img_dup2.get_fdata().dtype"
   ]
  },
  {
   "cell_type": "code",
   "execution_count": 16,
   "id": "caad1978",
   "metadata": {},
   "outputs": [
    {
     "data": {
      "text/plain": [
       "False"
      ]
     },
     "execution_count": 16,
     "metadata": {},
     "output_type": "execute_result"
    }
   ],
   "source": [
    "np.allclose(img_dup.get_fdata(),img_dup2.get_fdata())"
   ]
  },
  {
   "cell_type": "code",
   "execution_count": 2,
   "id": "c6b54913",
   "metadata": {},
   "outputs": [],
   "source": [
    "import pandas as pd"
   ]
  },
  {
   "cell_type": "code",
   "execution_count": 6,
   "id": "b442296e",
   "metadata": {},
   "outputs": [],
   "source": [
    "shapes = pd.read_csv('E:\\\\Guided Research\\\\AMOS_preprocessed\\\\resizing_logs.csv')['resized_shape']"
   ]
  },
  {
   "cell_type": "code",
   "execution_count": 33,
   "id": "b4b9b48a",
   "metadata": {},
   "outputs": [
    {
     "name": "stderr",
     "output_type": "stream",
     "text": [
      "C:\\Users\\User\\AppData\\Local\\Temp\\ipykernel_15724\\105033787.py:1: FutureWarning: Could not cast to int32, falling back to object. This behavior is deprecated. In a future version, when a dtype is passed to 'DataFrame', either all columns will be cast to that dtype, or a TypeError will be raised.\n",
      "  shapes_df = pd.DataFrame(shapes.apply(lambda x: np.array(x.split(';'))).to_list(),columns=['x','y','z'],dtype=np.int32)\n"
     ]
    }
   ],
   "source": [
    "shapes_df = pd.DataFrame(shapes.apply(lambda x: np.array(x.split(';'))).to_list(),columns=['x','y','z'])"
   ]
  },
  {
   "cell_type": "code",
   "execution_count": 36,
   "id": "b9ff4e20",
   "metadata": {},
   "outputs": [],
   "source": [
    "shapes_df = shapes_df.astype(np.int32)"
   ]
  },
  {
   "cell_type": "code",
   "execution_count": 37,
   "id": "416cce50",
   "metadata": {},
   "outputs": [
    {
     "data": {
      "text/html": [
       "<div>\n",
       "<style scoped>\n",
       "    .dataframe tbody tr th:only-of-type {\n",
       "        vertical-align: middle;\n",
       "    }\n",
       "\n",
       "    .dataframe tbody tr th {\n",
       "        vertical-align: top;\n",
       "    }\n",
       "\n",
       "    .dataframe thead th {\n",
       "        text-align: right;\n",
       "    }\n",
       "</style>\n",
       "<table border=\"1\" class=\"dataframe\">\n",
       "  <thead>\n",
       "    <tr style=\"text-align: right;\">\n",
       "      <th></th>\n",
       "      <th>x</th>\n",
       "      <th>y</th>\n",
       "      <th>z</th>\n",
       "    </tr>\n",
       "  </thead>\n",
       "  <tbody>\n",
       "    <tr>\n",
       "      <th>count</th>\n",
       "      <td>240.000000</td>\n",
       "      <td>240.000000</td>\n",
       "      <td>240.000000</td>\n",
       "    </tr>\n",
       "    <tr>\n",
       "      <th>mean</th>\n",
       "      <td>203.091667</td>\n",
       "      <td>191.795833</td>\n",
       "      <td>91.929167</td>\n",
       "    </tr>\n",
       "    <tr>\n",
       "      <th>std</th>\n",
       "      <td>25.190486</td>\n",
       "      <td>40.857185</td>\n",
       "      <td>22.990793</td>\n",
       "    </tr>\n",
       "    <tr>\n",
       "      <th>min</th>\n",
       "      <td>139.000000</td>\n",
       "      <td>59.000000</td>\n",
       "      <td>35.000000</td>\n",
       "    </tr>\n",
       "    <tr>\n",
       "      <th>25%</th>\n",
       "      <td>189.000000</td>\n",
       "      <td>171.000000</td>\n",
       "      <td>81.750000</td>\n",
       "    </tr>\n",
       "    <tr>\n",
       "      <th>50%</th>\n",
       "      <td>199.000000</td>\n",
       "      <td>199.000000</td>\n",
       "      <td>90.000000</td>\n",
       "    </tr>\n",
       "    <tr>\n",
       "      <th>75%</th>\n",
       "      <td>218.250000</td>\n",
       "      <td>218.000000</td>\n",
       "      <td>105.000000</td>\n",
       "    </tr>\n",
       "    <tr>\n",
       "      <th>max</th>\n",
       "      <td>272.000000</td>\n",
       "      <td>272.000000</td>\n",
       "      <td>139.000000</td>\n",
       "    </tr>\n",
       "  </tbody>\n",
       "</table>\n",
       "</div>"
      ],
      "text/plain": [
       "                x           y           z\n",
       "count  240.000000  240.000000  240.000000\n",
       "mean   203.091667  191.795833   91.929167\n",
       "std     25.190486   40.857185   22.990793\n",
       "min    139.000000   59.000000   35.000000\n",
       "25%    189.000000  171.000000   81.750000\n",
       "50%    199.000000  199.000000   90.000000\n",
       "75%    218.250000  218.000000  105.000000\n",
       "max    272.000000  272.000000  139.000000"
      ]
     },
     "execution_count": 37,
     "metadata": {},
     "output_type": "execute_result"
    }
   ],
   "source": [
    "shapes_df.describe()"
   ]
  },
  {
   "cell_type": "code",
   "execution_count": 38,
   "id": "2a0b70d5",
   "metadata": {},
   "outputs": [
    {
     "data": {
      "text/plain": [
       "<AxesSubplot:>"
      ]
     },
     "execution_count": 38,
     "metadata": {},
     "output_type": "execute_result"
    },
    {
     "data": {
      "image/png": "[encoded data removed]",
      "text/plain": [
       "<Figure size 432x288 with 1 Axes>"
      ]
     },
     "metadata": {
      "needs_background": "light"
     },
     "output_type": "display_data"
    }
   ],
   "source": [
    "shapes_df.x.hist(cumulative=True)"
   ]
  },
  {
   "cell_type": "code",
   "execution_count": null,
   "id": "a9e33e9f",
   "metadata": {},
   "outputs": [],
   "source": [
    "import json\n",
    "dir = \"E://Guided Research/AMOS22/\"\n",
    "filename = \"task1_dataset.json\"\n",
    "json_obj = json.load(open(dir+filename,'r'))"
   ]
  },
  {
   "cell_type": "code",
   "execution_count": 58,
   "id": "bb8546d5",
   "metadata": {},
   "outputs": [
    {
     "name": "stdout",
     "output_type": "stream",
     "text": [
      "amos_0001.nii.gz\n",
      "(2.0, 2.0, 5.0)\n",
      "(218, 218, 89)\n",
      "amos_0004.nii.gz\n",
      "(2.0, 2.0, 5.0)\n",
      "(199, 199, 77)\n",
      "amos_0005.nii.gz\n",
      "(2.0, 2.0, 5.0)\n",
      "(218, 218, 79)\n"
     ]
    },
    {
     "ename": "KeyboardInterrupt",
     "evalue": "",
     "output_type": "error",
     "traceback": [
      "\u001b[1;31m---------------------------------------------------------------------------\u001b[0m",
      "\u001b[1;31mKeyboardInterrupt\u001b[0m                         Traceback (most recent call last)",
      "\u001b[1;32me:\\Guided research\\bladder_segmentation\\scripts\\experiments\\header_explore.ipynb Cell 34\u001b[0m in \u001b[0;36m<cell line: 75>\u001b[1;34m()\u001b[0m\n\u001b[0;32m     <a href='vscode-notebook-cell:/e%3A/Guided%20research/bladder_segmentation/scripts/experiments/header_explore.ipynb#X46sZmlsZQ%3D%3D?line=73'>74</a>\u001b[0m resampled_size_list\u001b[39m=\u001b[39m[]\n\u001b[0;32m     <a href='vscode-notebook-cell:/e%3A/Guided%20research/bladder_segmentation/scripts/experiments/header_explore.ipynb#X46sZmlsZQ%3D%3D?line=74'>75</a>\u001b[0m \u001b[39mfor\u001b[39;00m filename \u001b[39min\u001b[39;00m list_filenames:\n\u001b[1;32m---> <a href='vscode-notebook-cell:/e%3A/Guided%20research/bladder_segmentation/scripts/experiments/header_explore.ipynb#X46sZmlsZQ%3D%3D?line=75'>76</a>\u001b[0m     img_original \u001b[39m=\u001b[39m sitk\u001b[39m.\u001b[39;49mReadImage(raw_tr\u001b[39m+\u001b[39;49mfilename)\n\u001b[0;32m     <a href='vscode-notebook-cell:/e%3A/Guided%20research/bladder_segmentation/scripts/experiments/header_explore.ipynb#X46sZmlsZQ%3D%3D?line=76'>77</a>\u001b[0m     label_original \u001b[39m=\u001b[39m sitk\u001b[39m.\u001b[39mReadImage(raw_label\u001b[39m+\u001b[39mfilename)\n\u001b[0;32m     <a href='vscode-notebook-cell:/e%3A/Guided%20research/bladder_segmentation/scripts/experiments/header_explore.ipynb#X46sZmlsZQ%3D%3D?line=78'>79</a>\u001b[0m     bladder_label_original \u001b[39m=\u001b[39m create_bladder_voxels(label_original)\n",
      "File \u001b[1;32me:\\Guided research\\bladder_segmentation\\venv39\\lib\\site-packages\\SimpleITK\\extra.py:346\u001b[0m, in \u001b[0;36mReadImage\u001b[1;34m(fileName, outputPixelType, imageIO)\u001b[0m\n\u001b[0;32m    344\u001b[0m reader\u001b[39m.\u001b[39mSetImageIO(imageIO)\n\u001b[0;32m    345\u001b[0m reader\u001b[39m.\u001b[39mSetOutputPixelType(outputPixelType)\n\u001b[1;32m--> 346\u001b[0m \u001b[39mreturn\u001b[39;00m reader\u001b[39m.\u001b[39;49mExecute()\n",
      "File \u001b[1;32me:\\Guided research\\bladder_segmentation\\venv39\\lib\\site-packages\\SimpleITK\\SimpleITK.py:8015\u001b[0m, in \u001b[0;36mImageFileReader.Execute\u001b[1;34m(self)\u001b[0m\n\u001b[0;32m   8009\u001b[0m \u001b[39mdef\u001b[39;00m \u001b[39mExecute\u001b[39m(\u001b[39mself\u001b[39m):\n\u001b[0;32m   8010\u001b[0m     \u001b[39mr\u001b[39m\u001b[39m\"\"\"\u001b[39;00m\n\u001b[0;32m   8011\u001b[0m \u001b[39m    Execute(ImageFileReader self) -> Image\u001b[39;00m\n\u001b[0;32m   8012\u001b[0m \n\u001b[0;32m   8013\u001b[0m \n\u001b[0;32m   8014\u001b[0m \u001b[39m    \"\"\"\u001b[39;00m\n\u001b[1;32m-> 8015\u001b[0m     \u001b[39mreturn\u001b[39;00m _SimpleITK\u001b[39m.\u001b[39;49mImageFileReader_Execute(\u001b[39mself\u001b[39;49m)\n",
      "\u001b[1;31mKeyboardInterrupt\u001b[0m: "
     ]
    }
   ],
   "source": [
    "import csv\n",
    "import numpy as np\n",
    "import os\n",
    "import SimpleITK as sitk\n",
    "import matplotlib.pyplot as plt\n",
    "np.set_printoptions(precision=4, suppress=True)\n",
    "\n",
    "# label_dir = '/data/dan_blanaru/preprocessed_data/CTORG/labelsTr'\n",
    "# label_dir = '../sample_img/'\n",
    "# label_dir = '\\\\\\\\nas-vab.ifl/polyaxon/data1/dan_blanaru/preprocessed_data/CTORG/labelsTr/' #running on local machine\n",
    "\n",
    "# csv_path = \"..\\sample_img\\label_profile.csv\"\n",
    "# file = open(csv_path,'w')\n",
    "# file.write('filename,nr_bladder_vox\\n')\n",
    "\n",
    "def resampling_method(volume, new_spacing, interpolator=sitk.sitkLinear, default_value=0):\n",
    "    \"\"\"\n",
    "    It resamples the original volume to have the voxel size equal to the desired one.\n",
    "    Parameters\n",
    "    ----------\n",
    "    volume: sitk image \n",
    "        The original volume\n",
    "    new_spacing: numpy.array of float (i.e. [1.15, 1.30, 0.75])\n",
    "        The desired voxel size\n",
    "    Returns\n",
    "    ----------\n",
    "    sitk image\n",
    "        The input volume resampled with the desired voxel size\n",
    "    \"\"\"\n",
    "    original_size = volume.GetSize()\n",
    "    original_spacing = volume.GetSpacing()\n",
    "    new_size = [int((original_size[0] - 1) * original_spacing[0] / new_spacing[0]), \n",
    "                    int((original_size[1] - 1) * original_spacing[1] / new_spacing[1]), \n",
    "                            int((original_size[2] - 1) * original_spacing[2] / new_spacing[2])]\n",
    "    # print(new_size)\n",
    "    new_volume = sitk.Resample(volume, new_size, sitk.Transform(), interpolator, volume.GetOrigin(),\n",
    "                                new_spacing, volume.GetDirection(), default_value, volume.GetPixelID())\n",
    "    return new_volume\n",
    "\n",
    "def crop_and_pad(img,target_shape):\n",
    "    pass\n",
    "\n",
    "def create_bladder_voxels(label_img,bladder_indicator=14):\n",
    "    \n",
    "    # label_img = sitk.ReadImage(label_path)\n",
    "    label_array = sitk.GetArrayFromImage(label_img)\n",
    "\n",
    "    bladder_voxels = np.isclose(label_array,bladder_indicator)*1.0\n",
    "\n",
    "    bladder_voxels_img = sitk.GetImageFromArray(bladder_voxels)\n",
    "    bladder_voxels_img.SetSpacing(label_img.GetSpacing())\n",
    "    bladder_voxels_img.SetOrigin(label_img.GetOrigin())\n",
    "    bladder_voxels_img.SetDirection(label_img.GetDirection())\n",
    "    return bladder_voxels_img\n",
    "\n",
    "def crop_and_pad(label_img,new_shape):\n",
    "    ...\n",
    "\n",
    "\n",
    "raw_dir = \"E:\\\\Guided Research\\AMOS22\"\n",
    "raw_tr = raw_dir + \"\\imagesTr\\\\\"\n",
    "raw_label = raw_dir + \"\\labelsTr\\\\\"\n",
    "\n",
    "list_filenames = os.listdir(raw_tr)\n",
    "create_log = False\n",
    "if create_log:\n",
    "    csv_path = 'E:\\\\Guided Research\\\\AMOS_preprocessed\\\\resizing_logs_sample.csv'\n",
    "    csv_file = open(csv_path,'w')\n",
    "    original_header = \"nr_voxels_original,bladder_voxels_original,bladder_voxels_ratio_original,original_shape\"\n",
    "    resized_header = \"nr_voxels_resized,bladder_voxels_resized,bladder_voxels_ratio_resized,resized_shape\"\n",
    "    csv_file.write(f\"filename,{original_header},{resized_header}\\n\")\n",
    "    print(os.path.exists(csv_path))\n",
    "\n",
    "resampled_size_list=[]\n",
    "for filename in list_filenames:\n",
    "    img_original = sitk.ReadImage(raw_tr+filename)\n",
    "    label_original = sitk.ReadImage(raw_label+filename)\n",
    "    \n",
    "    bladder_label_original = create_bladder_voxels(label_original)\n",
    "    \n",
    "\n",
    "\n",
    "\n",
    "    target_spacing = (2,2,5)\n",
    "    target_shape = (270,)\n",
    "    img_resized = resampling_method(img_original,target_spacing)\n",
    "    bladder_label_resized = resampling_method(bladder_label_original,target_spacing,interpolator=sitk.sitkNearestNeighbor)\n",
    "\n",
    "\n",
    "\n",
    "    # print(img_original.GetSpacing())\n",
    "    print(filename)\n",
    "    print(bladder_label_resized.GetSpacing())\n",
    "    print(bladder_label_resized.GetSize())\n",
    "    resampled_size_list.append(list(bladder_label_resized.GetSize()))\n",
    "\n",
    "    if create_log:\n",
    "        csv_file.write(filename+',')\n",
    "    \n",
    "        nr_voxels_original = np.prod(bladder_label_original.GetSize())\n",
    "        nr_bladder_voxels_original = sitk.GetArrayFromImage(bladder_label_original).sum()\n",
    "        bladder_ratio_original = nr_bladder_voxels_original/nr_voxels_original\n",
    "\n",
    "        csv_file.write(f\"{nr_voxels_original},\")\n",
    "        csv_file.write(f\"{nr_bladder_voxels_original},\")\n",
    "        csv_file.write(f\"{100*bladder_ratio_original},\")\n",
    "        original_shape = bladder_label_original.GetSize()\n",
    "        csv_file.write(f\"{original_shape[0]};{original_shape[1]};{original_shape[2]},\")\n",
    "\n",
    "        nr_voxels_resized = np.prod(bladder_label_resized.GetSize())\n",
    "        nr_bladder_voxels_resized = sitk.GetArrayFromImage(bladder_label_resized).sum()\n",
    "        bladder_ratio_resized = nr_bladder_voxels_resized/nr_voxels_resized\n",
    "\n",
    "        csv_file.write(f\"{nr_voxels_resized},\")\n",
    "        csv_file.write(f\"{nr_bladder_voxels_resized},\")\n",
    "        csv_file.write(f\"{100*bladder_ratio_resized},\")\n",
    "        resized_shape = bladder_label_resized.GetSize()\n",
    "        csv_file.write(f\"{resized_shape[0]};{resized_shape[1]};{resized_shape[2]},\")\n",
    "        csv_file.write(\"\\n\")\n",
    "    \n",
    "\n",
    "\n",
    "    \n",
    "print()\n",
    "print(np.min(np.array(resampled_size_list),axis=0))\n",
    "    \n",
    "\n",
    "#todo:\n",
    "# load img and label side by side\n",
    "\n",
    "# count bladder pix in img\n",
    "# resize img\n",
    "# resize label\n",
    "# count bladder pix in label\n",
    "# if it's working, clean chrome tabs\n",
    "\n",
    "# crop img\n",
    "# crop label\n",
    "# count bladder pix in label\n",
    "\n",
    "\n",
    "\n",
    "\n",
    "\n",
    "\n",
    "\n",
    "\n",
    "\n",
    "\n",
    "# label_list = os.listdir(label_dir)\n",
    "# total_bladderless = 0\n",
    "# total_included = 0\n",
    "# for filename in label_list: \n",
    "#     if filename[:7] != \"labels-\":\n",
    "#         continue\n",
    "#     img = nib.load(os.path.join(label_dir,filename))\n",
    "#     img_data = img.get_fdata()\n",
    "\n",
    "#     bladder_indicator = 2.0\n",
    "#     new_data = np.isclose(img_data,bladder_indicator)\n",
    "#     nr_bladder_vox = new_data.sum()\n",
    "    \n",
    "#     print(os.path.join(label_dir,filename), nr_bladder_vox)\n",
    "#     # file.write(f\"{filename},{nr_bladder_vox}\\n\")\n",
    "#     print(f\"{filename},{nr_bladder_vox}\")\n",
    "#     if nr_bladder_vox == 0:\n",
    "#         total_bladderless = total_bladderless+1\n",
    "#     else:\n",
    "#         total_included = total_included + 1\n",
    "\n",
    "#     new_img = nib.Nifti1Image(new_data,img.affine,img.header)\n",
    "#     new_path = os.path.join(label_dir,('bladder'+filename))\n",
    "#     if nr_bladder_vox !=0:\n",
    "#         nib.save(new_img,new_path)\n",
    "# # file.write(f'total,{total_bladderless}')\n",
    "# # file.close()\n",
    "# print(\"total bladderless: \", total_bladderless)\n",
    "# print(\"total_included\", total_included)"
   ]
  },
  {
   "cell_type": "code",
   "execution_count": 59,
   "id": "c4f2d9d0",
   "metadata": {},
   "outputs": [
    {
     "data": {
      "text/plain": [
       "[0.0, 1.0]"
      ]
     },
     "execution_count": 59,
     "metadata": {},
     "output_type": "execute_result"
    }
   ],
   "source": [
    "list(np.unique(sitk.GetArrayFromImage(bladder_label_resized).flatten(),return_counts=True)[0])"
   ]
  },
  {
   "cell_type": "code",
   "execution_count": 47,
   "id": "d7eb2b63",
   "metadata": {},
   "outputs": [
    {
     "data": {
      "text/plain": [
       "(6079446,)"
      ]
     },
     "execution_count": 47,
     "metadata": {},
     "output_type": "execute_result"
    }
   ],
   "source": []
  },
  {
   "cell_type": "code",
   "execution_count": null,
   "id": "dd6c1f66",
   "metadata": {},
   "outputs": [],
   "source": []
  }
 ],
 "metadata": {
  "kernelspec": {
   "display_name": "Python 3.9.7 ('venv39': venv)",
   "language": "python",
   "name": "python3"
  },
  "language_info": {
   "codemirror_mode": {
    "name": "ipython",
    "version": 3
   },
   "file_extension": ".py",
   "mimetype": "text/x-python",
   "name": "python",
   "nbconvert_exporter": "python",
   "pygments_lexer": "ipython3",
   "version": "3.9.7"
  },
  "vscode": {
   "interpreter": {
    "hash": "fac75a7cf471b9857511464fa76fbafbd2b06590b7ef73d14c67ddd3fd26309b"
   }
  }
 },
 "nbformat": 4,
 "nbformat_minor": 5
}
