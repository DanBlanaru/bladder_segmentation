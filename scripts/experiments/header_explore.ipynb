{
 "cells": [
  {
   "cell_type": "code",
   "execution_count": 1,
   "id": "987b7fb5",
   "metadata": {},
   "outputs": [],
   "source": [
    "import SimpleITK as sitk\n",
    "\n",
    "import numpy as np\n",
    "import os\n",
    "from ipywidgets import interact, fixed\n",
    "\n",
    "import matplotlib.pyplot as plt\n",
    "%matplotlib inline\n",
    "np.set_printoptions(precision=4, suppress=True)"
   ]
  },
  {
   "cell_type": "code",
   "execution_count": 2,
   "id": "ac10b58d",
   "metadata": {},
   "outputs": [],
   "source": [
    "data_dir = \"E:\\\\Guided Research\\AMOS_examples\"\n",
    "# data_dir = \"E:\\\\Guided Research\\AMOS22\"\n",
    "raw_dir = data_dir + \"\\imagesTr\\\\\"\n",
    "labels_dir = data_dir + \"\\labelsTr\\\\\"\n",
    "\n",
    "target_dir = \"E:\\\\Guided Research\\AMOS_preprocessed\"\n",
    "target_raw_dir = target_dir + \"\\imagesTr\\\\\"\n",
    "target_labels_dir = target_dir + \"\\labelsTr\\\\\"\n",
    "# list(os.listdir(raw_dir))"
   ]
  },
  {
   "cell_type": "code",
   "execution_count": 3,
   "id": "dc59ba21",
   "metadata": {},
   "outputs": [
    {
     "data": {
      "text/plain": [
       "['amos_0001.nii.gz',\n",
       " 'amos_0004.nii.gz',\n",
       " 'amos_0005.nii.gz',\n",
       " 'amos_0006.nii.gz',\n",
       " 'amos_0007.nii.gz',\n",
       " 'amos_0009.nii.gz',\n",
       " 'amos_0010.nii.gz',\n",
       " 'amos_0011.nii.gz']"
      ]
     },
     "execution_count": 3,
     "metadata": {},
     "output_type": "execute_result"
    }
   ],
   "source": [
    "list(os.listdir(raw_dir))"
   ]
  },
  {
   "cell_type": "code",
   "execution_count": 4,
   "id": "5e451a0c",
   "metadata": {},
   "outputs": [],
   "source": [
    "img_list = list(os.listdir(raw_dir))\n",
    "label_list = list(os.listdir(labels_dir))"
   ]
  },
  {
   "cell_type": "code",
   "execution_count": 5,
   "id": "593e8624",
   "metadata": {},
   "outputs": [
    {
     "name": "stdout",
     "output_type": "stream",
     "text": [
      "8\n",
      "8\n"
     ]
    }
   ],
   "source": [
    "print(len(img_list))\n",
    "print(len(label_list))\n",
    "# img_list.__len__() == label_list.__len__()\n"
   ]
  },
  {
   "cell_type": "code",
   "execution_count": 6,
   "id": "f0a45e80",
   "metadata": {},
   "outputs": [],
   "source": [
    "img1 = sitk.ReadImage(raw_dir+img_list[0])\n",
    "label1 = sitk.ReadImage(labels_dir+label_list[0])"
   ]
  },
  {
   "cell_type": "code",
   "execution_count": 7,
   "id": "da94a043",
   "metadata": {},
   "outputs": [
    {
     "name": "stdout",
     "output_type": "stream",
     "text": [
      "(90, 768, 768)\n",
      "(90, 768, 768)\n"
     ]
    }
   ],
   "source": [
    "print(sitk.GetArrayFromImage(img1).shape)\n",
    "print(sitk.GetArrayFromImage(label1).shape)"
   ]
  },
  {
   "cell_type": "code",
   "execution_count": 8,
   "id": "e2007d30",
   "metadata": {},
   "outputs": [],
   "source": [
    "# from scipy.signal import resample_poly\n",
    "# from scipy.ndimage import zoom\n",
    "# from torch.nn.functional import interpolate\n",
    "# import torch\n",
    "# def resampling_method(img):\n",
    "#     voxel_sizes = img.GetSpacing()\n",
    "#     target_spacing  = (2,2,5)\n",
    "#     inverse_ratios = (target_spacing[0]/voxel_sizes[0],target_spacing[1]/voxel_sizes[1],target_spacing[2]/voxel_sizes[2])\n",
    "#     print(inverse_ratios)\n",
    "    \n",
    "#     img_array = sitk.GetArrayFromImage(img)\n",
    "#     img_array = np.expand_dims(img_array,axis=(0,1))\n",
    "#     # print(img_array.shape)\n",
    "#     img_array = torch.tensor(img_array)\n",
    "#     print(img_array.shape)\n",
    "#     resized_img_array = interpolate(img_array,scale_factor=inverse_ratios).squeeze()\n",
    "#     resized_img = sitk.GetImageFromArray(resized_img_array).CopyInformation(img)\n",
    "#     resized_img.SetSpacing((2,2,5))\n",
    "#     print(inverse_ratios)\n",
    "#     print(resized_img.GetSpacing())\n",
    "#     return resized_img"
   ]
  },
  {
   "cell_type": "code",
   "execution_count": 9,
   "id": "91140a50",
   "metadata": {},
   "outputs": [],
   "source": [
    "def resampling_method(volume, new_spacing, interpolator=sitk.sitkLinear, default_value=0):\n",
    "    \"\"\"\n",
    "    It resamples the original volume to have the voxel size equal to the desired one.\n",
    "    Parameters\n",
    "    ----------\n",
    "    volume: sitk image \n",
    "        The original volume\n",
    "    new_spacing: numpy.array of float (i.e. [1.15, 1.30, 0.75])\n",
    "        The desired voxel size\n",
    "    Returns\n",
    "    ----------\n",
    "    sitk image\n",
    "        The input volume resampled with the desired voxel size\n",
    "    \"\"\"\n",
    "    original_size = volume.GetSize()\n",
    "    original_spacing = volume.GetSpacing()\n",
    "    new_size = [int((original_size[0] - 1) * original_spacing[0] / new_spacing[0]), \n",
    "                    int((original_size[1] - 1) * original_spacing[1] / new_spacing[1]), \n",
    "                            int((original_size[2] - 1) * original_spacing[2] / new_spacing[2])]\n",
    "    # print(new_size)\n",
    "    new_volume = sitk.Resample(volume, new_size, sitk.Transform(), interpolator, volume.GetOrigin(),\n",
    "                                new_spacing, volume.GetDirection(), default_value, volume.GetPixelID())\n",
    "    return new_volume"
   ]
  },
  {
   "cell_type": "code",
   "execution_count": 10,
   "id": "417dc498",
   "metadata": {},
   "outputs": [
    {
     "name": "stdout",
     "output_type": "stream",
     "text": [
      "[218, 218, 89]\n"
     ]
    }
   ],
   "source": [
    "resampled_img1 = resampling_method(img1,(2,2,5))"
   ]
  },
  {
   "cell_type": "code",
   "execution_count": 100,
   "id": "f3852036",
   "metadata": {},
   "outputs": [],
   "source": [
    "def print_header(img):\n",
    "    selected_image = img\n",
    "    print('Before modification:')\n",
    "    print('origin: ' + str(selected_image.GetOrigin()))\n",
    "    print('size: ' + str(selected_image.GetSize()))\n",
    "    print('spacing: ' + str(selected_image.GetSpacing()))\n",
    "    print('direction: ' + str(selected_image.GetDirection()))\n",
    "    print('pixel type: ' + str(selected_image.GetPixelIDTypeAsString()))\n",
    "    print('number of pixel components: ' + str(selected_image.GetNumberOfComponentsPerPixel()))\n",
    "\n",
    "    # selected_image.SetOrigin((78.0, 76.0, 77.0))\n",
    "    # selected_image.SetSpacing([0.5,0.5,3.0])\n",
    "\n",
    "    # print('\\nAfter modification:')\n",
    "    # print('origin: ' + str(selected_image.GetOrigin()))\n",
    "    # print('spacing: ' + str(selected_image.GetSpacing()))"
   ]
  },
  {
   "cell_type": "code",
   "execution_count": 102,
   "id": "6278984d",
   "metadata": {},
   "outputs": [
    {
     "name": "stdout",
     "output_type": "stream",
     "text": [
      "Before modification:\n",
      "origin: (-233.0, 373.4296875, 26.5)\n",
      "size: (768, 768, 90)\n",
      "spacing: (1.0, 1.0, 5.0)\n",
      "direction: (1.0, 0.0, 0.0, 0.0, -1.0, 0.0, 0.0, 0.0, 1.0)\n",
      "pixel type: 32-bit float\n",
      "number of pixel components: 1\n"
     ]
    }
   ],
   "source": [
    "print_header(img1)"
   ]
  },
  {
   "cell_type": "code",
   "execution_count": 103,
   "id": "1db86375",
   "metadata": {},
   "outputs": [
    {
     "name": "stdout",
     "output_type": "stream",
     "text": [
      "Before modification:\n",
      "origin: (-233.0, 373.4296875, 26.5)\n",
      "size: (218, 218, 89)\n",
      "spacing: (2.0, 2.0, 5.0)\n",
      "direction: (1.0, 0.0, 0.0, 0.0, -1.0, 0.0, 0.0, 0.0, 1.0)\n",
      "pixel type: 32-bit float\n",
      "number of pixel components: 1\n"
     ]
    }
   ],
   "source": [
    "print_header(resampled_img1)"
   ]
  },
  {
   "cell_type": "code",
   "execution_count": 52,
   "id": "df45f2b4",
   "metadata": {},
   "outputs": [
    {
     "name": "stdout",
     "output_type": "stream",
     "text": [
      "Before modification:\n",
      "origin: (-233.0, 373.4296875, 26.5)\n",
      "size: (768, 768, 90)\n",
      "spacing: (0.5703125, 0.5703125, 5.0)\n",
      "direction: (1.0, 0.0, 0.0, 0.0, -1.0, 0.0, 0.0, 0.0, 1.0)\n",
      "pixel type: 16-bit unsigned integer\n",
      "number of pixel components: 1\n",
      "\n",
      "After modification:\n",
      "origin: (78.0, 76.0, 77.0)\n",
      "spacing: (0.5, 0.5, 3.0)\n"
     ]
    }
   ],
   "source": [
    "print_header(label1)"
   ]
  },
  {
   "cell_type": "code",
   "execution_count": 14,
   "id": "74b2c2a2",
   "metadata": {},
   "outputs": [
    {
     "name": "stdout",
     "output_type": "stream",
     "text": [
      "[218, 218, 89]\n"
     ]
    }
   ],
   "source": [
    "resampled_label = resampling_method(label1,(2,2,5))"
   ]
  },
  {
   "cell_type": "code",
   "execution_count": null,
   "id": "e281fd5b",
   "metadata": {},
   "outputs": [],
   "source": []
  },
  {
   "cell_type": "code",
   "execution_count": 6,
   "id": "6539e771",
   "metadata": {},
   "outputs": [
    {
     "data": {
      "text/plain": [
       "True"
      ]
     },
     "execution_count": 6,
     "metadata": {},
     "output_type": "execute_result"
    }
   ],
   "source": [
    "nib.is_proxy(img.dataobj)"
   ]
  },
  {
   "cell_type": "code",
   "execution_count": 7,
   "id": "36862454",
   "metadata": {},
   "outputs": [],
   "source": [
    "img_data = img.get_fdata()"
   ]
  },
  {
   "cell_type": "code",
   "execution_count": 8,
   "id": "0dafb8b0",
   "metadata": {},
   "outputs": [],
   "source": [
    "unique,counts = np.unique(img_data,return_counts=True)"
   ]
  },
  {
   "cell_type": "code",
   "execution_count": 9,
   "id": "7e562d1d",
   "metadata": {},
   "outputs": [
    {
     "data": {
      "text/plain": [
       "(array([0., 1., 3., 4., 5.]),\n",
       " array([27758042,  2865131,  1814305,   421663,   957435], dtype=int64))"
      ]
     },
     "execution_count": 9,
     "metadata": {},
     "output_type": "execute_result"
    }
   ],
   "source": [
    "unique,counts"
   ]
  },
  {
   "cell_type": "code",
   "execution_count": 10,
   "id": "8f74b76d",
   "metadata": {},
   "outputs": [
    {
     "data": {
      "text/plain": [
       "0"
      ]
     },
     "execution_count": 10,
     "metadata": {},
     "output_type": "execute_result"
    }
   ],
   "source": [
    "np.isclose(img_data,2.0).sum()"
   ]
  },
  {
   "cell_type": "code",
   "execution_count": 11,
   "id": "4ccea116",
   "metadata": {},
   "outputs": [],
   "source": [
    "new_data = np.isclose(img_data,2.0)"
   ]
  },
  {
   "cell_type": "code",
   "execution_count": 12,
   "id": "90c4d57a",
   "metadata": {},
   "outputs": [],
   "source": [
    "new_img = nib.Nifti1Image(new_data,img.affine,img.header)"
   ]
  },
  {
   "cell_type": "code",
   "execution_count": 13,
   "id": "c768eedb",
   "metadata": {},
   "outputs": [],
   "source": [
    "nib.save(new_img,'img_smth.nii.gz')"
   ]
  },
  {
   "cell_type": "code",
   "execution_count": 14,
   "id": "d73e08cf",
   "metadata": {},
   "outputs": [],
   "source": [
    "img_dup = nib.load('../sample_img/labels-021.nii.gz')\n",
    "img_dup2 = nib.load('img_smth.nii.gz')"
   ]
  },
  {
   "cell_type": "code",
   "execution_count": 15,
   "id": "985cddaf",
   "metadata": {},
   "outputs": [
    {
     "data": {
      "text/plain": [
       "dtype('float64')"
      ]
     },
     "execution_count": 15,
     "metadata": {},
     "output_type": "execute_result"
    }
   ],
   "source": [
    "img_dup2.get_fdata().dtype"
   ]
  },
  {
   "cell_type": "code",
   "execution_count": 16,
   "id": "caad1978",
   "metadata": {},
   "outputs": [
    {
     "data": {
      "text/plain": [
       "False"
      ]
     },
     "execution_count": 16,
     "metadata": {},
     "output_type": "execute_result"
    }
   ],
   "source": [
    "np.allclose(img_dup.get_fdata(),img_dup2.get_fdata())"
   ]
  },
  {
   "cell_type": "code",
   "execution_count": null,
   "id": "b442296e",
   "metadata": {},
   "outputs": [],
   "source": []
  }
 ],
 "metadata": {
  "kernelspec": {
   "display_name": "Python 3.9.7 ('venv39': venv)",
   "language": "python",
   "name": "python3"
  },
  "language_info": {
   "codemirror_mode": {
    "name": "ipython",
    "version": 3
   },
   "file_extension": ".py",
   "mimetype": "text/x-python",
   "name": "python",
   "nbconvert_exporter": "python",
   "pygments_lexer": "ipython3",
   "version": "3.9.7"
  },
  "vscode": {
   "interpreter": {
    "hash": "fac75a7cf471b9857511464fa76fbafbd2b06590b7ef73d14c67ddd3fd26309b"
   }
  }
 },
 "nbformat": 4,
 "nbformat_minor": 5
}
